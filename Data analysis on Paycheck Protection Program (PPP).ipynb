{
 "cells": [
  {
   "cell_type": "code",
   "execution_count": 2,
   "metadata": {},
   "outputs": [],
   "source": [
    "import pandas as pd\n",
    "import seaborn as sns\n",
    "import matplotlib.pyplot as plt"
   ]
  },
  {
   "cell_type": "code",
   "execution_count": null,
   "metadata": {},
   "outputs": [],
   "source": [
    "df = pd.read_csv('PPP Data 150k plus 080820.csv.', parse_dates=['DateApproved'], infer_datetime_format=True)"
   ]
  },
  {
   "cell_type": "code",
   "execution_count": null,
   "metadata": {},
   "outputs": [],
   "source": [
    "df.head()"
   ]
  },
  {
   "cell_type": "code",
   "execution_count": 6,
   "metadata": {},
   "outputs": [
    {
     "name": "stdout",
     "output_type": "stream",
     "text": [
      "<class 'pandas.core.frame.DataFrame'>\n",
      "RangeIndex: 662515 entries, 0 to 662514\n",
      "Data columns (total 16 columns):\n",
      "LoanRange        662515 non-null object\n",
      "BusinessName     662510 non-null object\n",
      "Address          662498 non-null object\n",
      "City             662500 non-null object\n",
      "State            662499 non-null object\n",
      "Zip              662499 non-null float64\n",
      "NAICSCode        655800 non-null float64\n",
      "BusinessType     661110 non-null object\n",
      "RaceEthnicity    662515 non-null object\n",
      "Gender           662515 non-null object\n",
      "Veteran          662515 non-null object\n",
      "NonProfit        41993 non-null object\n",
      "JobsReported     622635 non-null float64\n",
      "DateApproved     662515 non-null datetime64[ns]\n",
      "Lender           662515 non-null object\n",
      "CD               662292 non-null object\n",
      "dtypes: datetime64[ns](1), float64(3), object(12)\n",
      "memory usage: 80.9+ MB\n"
     ]
    },
    {
     "data": {
      "text/html": [
       "<div>\n",
       "<style scoped>\n",
       "    .dataframe tbody tr th:only-of-type {\n",
       "        vertical-align: middle;\n",
       "    }\n",
       "\n",
       "    .dataframe tbody tr th {\n",
       "        vertical-align: top;\n",
       "    }\n",
       "\n",
       "    .dataframe thead th {\n",
       "        text-align: right;\n",
       "    }\n",
       "</style>\n",
       "<table border=\"1\" class=\"dataframe\">\n",
       "  <thead>\n",
       "    <tr style=\"text-align: right;\">\n",
       "      <th></th>\n",
       "      <th>Zip</th>\n",
       "      <th>NAICSCode</th>\n",
       "      <th>JobsReported</th>\n",
       "    </tr>\n",
       "  </thead>\n",
       "  <tbody>\n",
       "    <tr>\n",
       "      <td>count</td>\n",
       "      <td>662499.000000</td>\n",
       "      <td>655800.000000</td>\n",
       "      <td>622635.000000</td>\n",
       "    </tr>\n",
       "    <tr>\n",
       "      <td>mean</td>\n",
       "      <td>51334.381745</td>\n",
       "      <td>504320.424614</td>\n",
       "      <td>50.324980</td>\n",
       "    </tr>\n",
       "    <tr>\n",
       "      <td>std</td>\n",
       "      <td>30763.300635</td>\n",
       "      <td>177773.534782</td>\n",
       "      <td>69.585824</td>\n",
       "    </tr>\n",
       "    <tr>\n",
       "      <td>min</td>\n",
       "      <td>256.000000</td>\n",
       "      <td>111110.000000</td>\n",
       "      <td>0.000000</td>\n",
       "    </tr>\n",
       "    <tr>\n",
       "      <td>25%</td>\n",
       "      <td>23606.000000</td>\n",
       "      <td>337110.000000</td>\n",
       "      <td>16.000000</td>\n",
       "    </tr>\n",
       "    <tr>\n",
       "      <td>50%</td>\n",
       "      <td>48726.000000</td>\n",
       "      <td>541110.000000</td>\n",
       "      <td>28.000000</td>\n",
       "    </tr>\n",
       "    <tr>\n",
       "      <td>75%</td>\n",
       "      <td>79701.000000</td>\n",
       "      <td>621320.000000</td>\n",
       "      <td>54.000000</td>\n",
       "    </tr>\n",
       "    <tr>\n",
       "      <td>max</td>\n",
       "      <td>99929.000000</td>\n",
       "      <td>999990.000000</td>\n",
       "      <td>500.000000</td>\n",
       "    </tr>\n",
       "  </tbody>\n",
       "</table>\n",
       "</div>"
      ],
      "text/plain": [
       "                 Zip      NAICSCode   JobsReported\n",
       "count  662499.000000  655800.000000  622635.000000\n",
       "mean    51334.381745  504320.424614      50.324980\n",
       "std     30763.300635  177773.534782      69.585824\n",
       "min       256.000000  111110.000000       0.000000\n",
       "25%     23606.000000  337110.000000      16.000000\n",
       "50%     48726.000000  541110.000000      28.000000\n",
       "75%     79701.000000  621320.000000      54.000000\n",
       "max     99929.000000  999990.000000     500.000000"
      ]
     },
     "execution_count": 6,
     "metadata": {},
     "output_type": "execute_result"
    }
   ],
   "source": [
    "df.info()\n",
    "df.describe()"
   ]
  },
  {
   "cell_type": "code",
   "execution_count": 7,
   "metadata": {},
   "outputs": [
    {
     "data": {
      "text/plain": [
       "e $150,000-350,000      380636\n",
       "d $350,000-1 million    199679\n",
       "c $1-2 million           53218\n",
       "b $2-5 million           24248\n",
       "a $5-10 million           4734\n",
       "Name: LoanRange, dtype: int64"
      ]
     },
     "execution_count": 7,
     "metadata": {},
     "output_type": "execute_result"
    }
   ],
   "source": [
    "df['LoanRange'].value_counts()"
   ]
  },
  {
   "cell_type": "markdown",
   "metadata": {},
   "source": [
    "Creating two columns from the Loanrange an upper and lower range column"
   ]
  },
  {
   "cell_type": "code",
   "execution_count": 8,
   "metadata": {},
   "outputs": [],
   "source": [
    "lower_bounds = {'a $5-10 million': 5000000,\n",
    "               'b $2-5 million': 2000000,\n",
    "               'c $1-2 million': 1000000,\n",
    "               'd $350,000-1 million': 350000,\n",
    "               'e $150,000-350,000': 150000}\n",
    "\n",
    "upper_bounds = {'a $5-10 million': 10000000,\n",
    "               'b $2-5 million': 5000000,\n",
    "               'c $1-2 million': 2000000,\n",
    "               'd $350,000-1 million': 1000000,\n",
    "               'e $150,000-350,000': 350000}"
   ]
  },
  {
   "cell_type": "code",
   "execution_count": 9,
   "metadata": {},
   "outputs": [
    {
     "data": {
      "text/html": [
       "<div>\n",
       "<style scoped>\n",
       "    .dataframe tbody tr th:only-of-type {\n",
       "        vertical-align: middle;\n",
       "    }\n",
       "\n",
       "    .dataframe tbody tr th {\n",
       "        vertical-align: top;\n",
       "    }\n",
       "\n",
       "    .dataframe thead th {\n",
       "        text-align: right;\n",
       "    }\n",
       "</style>\n",
       "<table border=\"1\" class=\"dataframe\">\n",
       "  <thead>\n",
       "    <tr style=\"text-align: right;\">\n",
       "      <th></th>\n",
       "      <th>LoanRange</th>\n",
       "      <th>BusinessName</th>\n",
       "      <th>Address</th>\n",
       "      <th>City</th>\n",
       "      <th>State</th>\n",
       "      <th>Zip</th>\n",
       "      <th>NAICSCode</th>\n",
       "      <th>BusinessType</th>\n",
       "      <th>RaceEthnicity</th>\n",
       "      <th>Gender</th>\n",
       "      <th>Veteran</th>\n",
       "      <th>NonProfit</th>\n",
       "      <th>JobsReported</th>\n",
       "      <th>DateApproved</th>\n",
       "      <th>Lender</th>\n",
       "      <th>CD</th>\n",
       "    </tr>\n",
       "  </thead>\n",
       "  <tbody>\n",
       "    <tr>\n",
       "      <td>0</td>\n",
       "      <td>d $350,000-1 million</td>\n",
       "      <td>AERO BOX LLC</td>\n",
       "      <td>NaN</td>\n",
       "      <td>NaN</td>\n",
       "      <td>NaN</td>\n",
       "      <td>NaN</td>\n",
       "      <td>484210.0</td>\n",
       "      <td>NaN</td>\n",
       "      <td>Unanswered</td>\n",
       "      <td>Unanswered</td>\n",
       "      <td>Unanswered</td>\n",
       "      <td>NaN</td>\n",
       "      <td>NaN</td>\n",
       "      <td>2020-05-03</td>\n",
       "      <td>The Huntington National Bank</td>\n",
       "      <td>NaN</td>\n",
       "    </tr>\n",
       "    <tr>\n",
       "      <td>1</td>\n",
       "      <td>d $350,000-1 million</td>\n",
       "      <td>BOYER CHILDREN'S CLINIC</td>\n",
       "      <td>1850 BOYER AVE E</td>\n",
       "      <td>SEATTLE</td>\n",
       "      <td>NaN</td>\n",
       "      <td>98112.0</td>\n",
       "      <td>NaN</td>\n",
       "      <td>Non-Profit Organization</td>\n",
       "      <td>Unanswered</td>\n",
       "      <td>Unanswered</td>\n",
       "      <td>Unanswered</td>\n",
       "      <td>Y</td>\n",
       "      <td>75.0</td>\n",
       "      <td>2020-05-03</td>\n",
       "      <td>Bank of America, National Association</td>\n",
       "      <td>WA-07</td>\n",
       "    </tr>\n",
       "    <tr>\n",
       "      <td>2</td>\n",
       "      <td>d $350,000-1 million</td>\n",
       "      <td>KIRTLEY CONSTRUCTION INC</td>\n",
       "      <td>1661 MARTIN RANCH RD</td>\n",
       "      <td>SAN BERNARDINO</td>\n",
       "      <td>NaN</td>\n",
       "      <td>92407.0</td>\n",
       "      <td>236115.0</td>\n",
       "      <td>Corporation</td>\n",
       "      <td>Unanswered</td>\n",
       "      <td>Unanswered</td>\n",
       "      <td>Unanswered</td>\n",
       "      <td>NaN</td>\n",
       "      <td>21.0</td>\n",
       "      <td>2020-05-03</td>\n",
       "      <td>Bank of America, National Association</td>\n",
       "      <td>CA-31</td>\n",
       "    </tr>\n",
       "    <tr>\n",
       "      <td>3</td>\n",
       "      <td>d $350,000-1 million</td>\n",
       "      <td>PLEASANT PLACES, INC.</td>\n",
       "      <td>7684 Southrail Road</td>\n",
       "      <td>North Charleston</td>\n",
       "      <td>NaN</td>\n",
       "      <td>29420.0</td>\n",
       "      <td>561730.0</td>\n",
       "      <td>Sole Proprietorship</td>\n",
       "      <td>Unanswered</td>\n",
       "      <td>Male Owned</td>\n",
       "      <td>Non-Veteran</td>\n",
       "      <td>NaN</td>\n",
       "      <td>73.0</td>\n",
       "      <td>2020-05-03</td>\n",
       "      <td>Synovus Bank</td>\n",
       "      <td>SC-01</td>\n",
       "    </tr>\n",
       "    <tr>\n",
       "      <td>4</td>\n",
       "      <td>d $350,000-1 million</td>\n",
       "      <td>SUMTER COATINGS, INC.</td>\n",
       "      <td>2410 Highway 15 South</td>\n",
       "      <td>Sumter</td>\n",
       "      <td>NaN</td>\n",
       "      <td>29150.0</td>\n",
       "      <td>325510.0</td>\n",
       "      <td>Corporation</td>\n",
       "      <td>Unanswered</td>\n",
       "      <td>Unanswered</td>\n",
       "      <td>Unanswered</td>\n",
       "      <td>NaN</td>\n",
       "      <td>62.0</td>\n",
       "      <td>2020-05-03</td>\n",
       "      <td>Synovus Bank</td>\n",
       "      <td>SC-05</td>\n",
       "    </tr>\n",
       "  </tbody>\n",
       "</table>\n",
       "</div>"
      ],
      "text/plain": [
       "              LoanRange              BusinessName                Address  \\\n",
       "0  d $350,000-1 million              AERO BOX LLC                    NaN   \n",
       "1  d $350,000-1 million   BOYER CHILDREN'S CLINIC       1850 BOYER AVE E   \n",
       "2  d $350,000-1 million  KIRTLEY CONSTRUCTION INC   1661 MARTIN RANCH RD   \n",
       "3  d $350,000-1 million     PLEASANT PLACES, INC.    7684 Southrail Road   \n",
       "4  d $350,000-1 million     SUMTER COATINGS, INC.  2410 Highway 15 South   \n",
       "\n",
       "               City State      Zip  NAICSCode             BusinessType  \\\n",
       "0               NaN   NaN      NaN   484210.0                      NaN   \n",
       "1           SEATTLE   NaN  98112.0        NaN  Non-Profit Organization   \n",
       "2    SAN BERNARDINO   NaN  92407.0   236115.0              Corporation   \n",
       "3  North Charleston   NaN  29420.0   561730.0      Sole Proprietorship   \n",
       "4            Sumter   NaN  29150.0   325510.0              Corporation   \n",
       "\n",
       "  RaceEthnicity      Gender      Veteran NonProfit  JobsReported DateApproved  \\\n",
       "0    Unanswered  Unanswered   Unanswered       NaN           NaN   2020-05-03   \n",
       "1    Unanswered  Unanswered   Unanswered         Y          75.0   2020-05-03   \n",
       "2    Unanswered  Unanswered   Unanswered       NaN          21.0   2020-05-03   \n",
       "3    Unanswered  Male Owned  Non-Veteran       NaN          73.0   2020-05-03   \n",
       "4    Unanswered  Unanswered   Unanswered       NaN          62.0   2020-05-03   \n",
       "\n",
       "                                  Lender     CD  \n",
       "0           The Huntington National Bank    NaN  \n",
       "1  Bank of America, National Association  WA-07  \n",
       "2  Bank of America, National Association  CA-31  \n",
       "3                           Synovus Bank  SC-01  \n",
       "4                           Synovus Bank  SC-05  "
      ]
     },
     "execution_count": 9,
     "metadata": {},
     "output_type": "execute_result"
    }
   ],
   "source": [
    "df.head()"
   ]
  },
  {
   "cell_type": "code",
   "execution_count": 3,
   "metadata": {},
   "outputs": [
    {
     "ename": "NameError",
     "evalue": "name 'df' is not defined",
     "output_type": "error",
     "traceback": [
      "\u001b[1;31m---------------------------------------------------------------------------\u001b[0m",
      "\u001b[1;31mNameError\u001b[0m                                 Traceback (most recent call last)",
      "\u001b[1;32m<ipython-input-3-fc5b2c129d6d>\u001b[0m in \u001b[0;36m<module>\u001b[1;34m\u001b[0m\n\u001b[1;32m----> 1\u001b[1;33m \u001b[0msns\u001b[0m\u001b[1;33m.\u001b[0m\u001b[0mcountplot\u001b[0m\u001b[1;33m(\u001b[0m\u001b[0mdata\u001b[0m\u001b[1;33m=\u001b[0m\u001b[0mdf\u001b[0m\u001b[1;33m,\u001b[0m \u001b[0my\u001b[0m\u001b[1;33m=\u001b[0m\u001b[1;34m'LoanRange'\u001b[0m\u001b[1;33m,\u001b[0m \u001b[0morder\u001b[0m\u001b[1;33m=\u001b[0m\u001b[0mdf\u001b[0m\u001b[1;33m[\u001b[0m\u001b[1;34m'LoanRange'\u001b[0m\u001b[1;33m]\u001b[0m\u001b[1;33m.\u001b[0m\u001b[0mvalue_counts\u001b[0m\u001b[1;33m(\u001b[0m\u001b[1;33m)\u001b[0m\u001b[1;33m.\u001b[0m\u001b[0mindex\u001b[0m\u001b[1;33m,\u001b[0m \u001b[0mcolor\u001b[0m\u001b[1;33m=\u001b[0m\u001b[1;34m'darkblue'\u001b[0m\u001b[1;33m)\u001b[0m\u001b[1;33m\u001b[0m\u001b[1;33m\u001b[0m\u001b[0m\n\u001b[0m",
      "\u001b[1;31mNameError\u001b[0m: name 'df' is not defined"
     ]
    }
   ],
   "source": [
    "sns.countplot(data=df, y='LoanRange', order=df['LoanRange'].value_counts().index, color='darkblue')"
   ]
  },
  {
   "cell_type": "code",
   "execution_count": null,
   "metadata": {},
   "outputs": [],
   "source": [
    "gb = df.groupby('LoanRange').sum()"
   ]
  },
  {
   "cell_type": "code",
   "execution_count": null,
   "metadata": {},
   "outputs": [],
   "source": [
    "gb.reset_index(inplace=True)\n",
    "#Interestingly, the total number of jobs reported is highest for the 2nd-lower loans category. It actually decreases for the higher loan amounts. Potentially these higher loan amounts have more efficient companies."
   ]
  },
  {
   "cell_type": "code",
   "execution_count": null,
   "metadata": {},
   "outputs": [],
   "source": [
    "sns.barplot(data=gb,\n",
    "            x='JobsReported',\n",
    "            y='LoanRange',\n",
    "            color='darkblue',\n",
    "            order=gb.sort_values(by='JobsReported', ascending=False)['LoanRange'])\n",
    "\n",
    "#Number of jobs scales with loan amount, which makes sense. There are some outliers on the large side for the smaller loan amounts though."
   ]
  },
  {
   "cell_type": "code",
   "execution_count": null,
   "metadata": {},
   "outputs": [],
   "source": [
    "sns.boxenplot(data=df, x='JobsReported', y='LoanRange', order=df['LoanRange'].value_counts().index, color='white')"
   ]
  },
  {
   "cell_type": "code",
   "execution_count": null,
   "metadata": {},
   "outputs": [],
   "source": [
    "gb_state = df.groupby('State').sum()\n",
    "gb_state.reset_index(inplace=True)\n",
    "#We can see a vast majority of loans are in a handful of states, with CA on top."
   ]
  },
  {
   "cell_type": "code",
   "execution_count": null,
   "metadata": {},
   "outputs": [],
   "source": [
    "px.choropleth(gb_state, locations='State', locationmode='USA-states', scope='usa', color='LoanLowerBound')\n",
    "gb_state.sort_values(by='LoanLowerBound', ascending=False).iloc[:5]"
   ]
  },
  {
   "cell_type": "code",
   "execution_count": null,
   "metadata": {},
   "outputs": [],
   "source": [
    "gb_state['LoanLowerBound_billions'] = gb_state['LoanLowerBound'] / 1000000000"
   ]
  },
  {
   "cell_type": "code",
   "execution_count": null,
   "metadata": {},
   "outputs": [],
   "source": [
    "sns.barplot(data=gb_state,\n",
    "            y='State',\n",
    "            x='LoanLowerBound_billions',\n",
    "            color='darkblue',\n",
    "            order=gb_state.sort_values(by='LoanLowerBound', ascending=False).iloc[:5]['State'])\n",
    "plt.xlabel('Total loans (billions)')\n"
   ]
  },
  {
   "cell_type": "code",
   "execution_count": null,
   "metadata": {},
   "outputs": [],
   "source": [
    "df['JobsReported'].median()\n",
    "#The distribution is very asymmetric"
   ]
  },
  {
   "cell_type": "code",
   "execution_count": null,
   "metadata": {},
   "outputs": [],
   "source": [
    "sns.histplot(data=df[df['JobsReported'] != 0], x='JobsReported')\n",
    "plt.xlabel('Jobs Reported')"
   ]
  },
  {
   "cell_type": "code",
   "execution_count": null,
   "metadata": {},
   "outputs": [],
   "source": [
    "df.columns\n",
    "#We can see JP Morgan is the top lender, with a few other big banks in the top 5. Truist Bank is also in there, which warrants more investigation."
   ]
  },
  {
   "cell_type": "code",
   "execution_count": null,
   "metadata": {},
   "outputs": [],
   "source": [
    "sns.countplot(data=df, y='Lender', color='darkblue', order=df['Lender'].value_counts().index[:5])"
   ]
  },
  {
   "cell_type": "code",
   "execution_count": null,
   "metadata": {},
   "outputs": [],
   "source": [
    "gb_date = df.groupby(['DateApproved', 'BusinessType']).count().groupby(level=-1).cumsum()\n",
    "gb_date.reset_index(inplace=True)"
   ]
  },
  {
   "cell_type": "code",
   "execution_count": null,
   "metadata": {},
   "outputs": [],
   "source": [
    "gb_date.head()"
   ]
  },
  {
   "cell_type": "code",
   "execution_count": null,
   "metadata": {},
   "outputs": [],
   "source": [
    "# since it is a cumulative sum of counts, we can use most any column for y\n",
    "sns.lineplot(data=gb_date, x='DateApproved', y='LoanRange', hue='BusinessType')"
   ]
  },
  {
   "cell_type": "code",
   "execution_count": null,
   "metadata": {},
   "outputs": [],
   "source": [
    "sns.countplot(data=df, y='BusinessType', order=df['BusinessType'].value_Lcounts().index)"
   ]
  },
  {
   "cell_type": "code",
   "execution_count": null,
   "metadata": {},
   "outputs": [],
   "source": [
    "# too many business types on there, let's break it down -- looks like top 4 should be good\n",
    "top_4_business_types = df['BusinessType'].value_counts().index[:4]"
   ]
  },
  {
   "cell_type": "code",
   "execution_count": null,
   "metadata": {},
   "outputs": [],
   "source": [
    "from labellines import labelLines\n",
    "\n",
    "f = plt.figure()\n",
    "ax = f.gca()\n",
    "for biz in top_4_business_types:\n",
    "    b_df = gb_date[gb_date['BusinessType'] == biz]\n",
    "    ax.plot(b_df['DateApproved'], b_df['LoanRange'], label=biz)\n",
    "\n",
    "# Adding extra arguments \n",
    "labelLines(ax.get_lines(), xvals=[pd.to_datetime('7-1-2020')] * 4, align=False)\n",
    "\n",
    "f.autofmt_xdate()  \n",
    "plt.xlabel('Date')"
   ]
  },
  {
   "cell_type": "markdown",
   "metadata": {},
   "source": [
    "As we can see, most loans were approved quickly, especially for corporations. Non-profits were the slowest to recieve loans. LLC's were next fastest after corporations."
   ]
  },
  {
   "cell_type": "code",
   "execution_count": null,
   "metadata": {},
   "outputs": [],
   "source": [
    "sns.color_palette('colorblind')[:4]"
   ]
  },
  {
   "cell_type": "code",
   "execution_count": null,
   "metadata": {},
   "outputs": [],
   "source": [
    "<AxesSubplot:xlabel='count', ylabel='LoanRange'>"
   ]
  },
  {
   "cell_type": "markdown",
   "metadata": {},
   "source": [
    "Above, we can see that Corporations made up the bulk of the loans in all categories, but especially the smaller loans here. Intermediate loans were a little more equal, but the biggest loans of 5-10M were dominated by corporations."
   ]
  }
 ],
 "metadata": {
  "kernelspec": {
   "display_name": "Python 3",
   "language": "python",
   "name": "python3"
  }
 },
 "nbformat": 4,
 "nbformat_minor": 2
}
